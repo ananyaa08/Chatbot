{
  "cells": [
    {
      "cell_type": "markdown",
      "id": "eb0af6d3",
      "metadata": {
        "id": "eb0af6d3"
      },
      "source": [
        "# Importing Necessary Libraries"
      ]
    },
    {
      "cell_type": "code",
      "execution_count": null,
      "id": "3de568a4",
      "metadata": {
        "id": "3de568a4"
      },
      "outputs": [],
      "source": [
        "import io\n",
        "import random\n",
        "import string # to process standard python strings\n",
        "import warnings\n",
        "import numpy as np\n",
        "from sklearn.feature_extraction.text import TfidfVectorizer\n",
        "from sklearn.metrics.pairwise import cosine_similarity\n",
        "import warnings\n",
        "warnings.filterwarnings('ignore')"
      ]
    },
    {
      "cell_type": "markdown",
      "id": "9f8a22aa",
      "metadata": {
        "id": "9f8a22aa"
      },
      "source": [
        "#### Installing NLTK Packages"
      ]
    },
    {
      "cell_type": "code",
      "execution_count": null,
      "id": "804d9d31",
      "metadata": {
        "id": "804d9d31",
        "colab": {
          "base_uri": "https://localhost:8080/"
        },
        "outputId": "bdf6507f-942f-4e72-e55e-ff33f50d9460",
        "collapsed": true
      },
      "outputs": [
        {
          "output_type": "stream",
          "name": "stderr",
          "text": [
            "[nltk_data] Downloading package punkt to /root/nltk_data...\n",
            "[nltk_data]   Package punkt is already up-to-date!\n",
            "[nltk_data] Downloading package wordnet to /root/nltk_data...\n",
            "[nltk_data]   Package wordnet is already up-to-date!\n"
          ]
        },
        {
          "output_type": "execute_result",
          "data": {
            "text/plain": [
              "True"
            ]
          },
          "metadata": {},
          "execution_count": 47
        }
      ],
      "source": [
        "import nltk\n",
        "from nltk.stem import WordNetLemmatizer\n",
        "nltk.download('popular', quiet=True)\n",
        "nltk.download('punkt')\n",
        "nltk.download('wordnet')"
      ]
    },
    {
      "cell_type": "code",
      "execution_count": null,
      "id": "71570246",
      "metadata": {
        "id": "71570246"
      },
      "outputs": [],
      "source": [
        "f = open('chatbot.txt', 'r', errors = 'ignore')\n",
        "raw = f.read()\n",
        "raw = raw.lower() #converts to lowercase"
      ]
    },
    {
      "cell_type": "markdown",
      "id": "55898d38",
      "metadata": {
        "id": "55898d38"
      },
      "source": [
        "### Tokenization"
      ]
    },
    {
      "cell_type": "code",
      "execution_count": null,
      "id": "8def3872",
      "metadata": {
        "id": "8def3872"
      },
      "outputs": [],
      "source": [
        "sent_tokens = nltk.sent_tokenize(raw)# converts to list of sentences\n",
        "word_tokens = nltk.word_tokenize(raw) # converts to list of words"
      ]
    },
    {
      "cell_type": "markdown",
      "id": "f2ae4e6f",
      "metadata": {
        "id": "f2ae4e6f"
      },
      "source": [
        "### Preprocessing"
      ]
    },
    {
      "cell_type": "code",
      "execution_count": null,
      "id": "d6cc29ed",
      "metadata": {
        "id": "d6cc29ed"
      },
      "outputs": [],
      "source": [
        "lemmer = nltk.stem.WordNetLemmatizer()\n",
        "##WordNet is a semantically-oriented dictionary of English included in NLTK.\n",
        "def LemTokens(tokens):\n",
        "    return [lemmer.lemmatize(token) for token in tokens]\n",
        "remove_punct_dict = dict((ord(punct), None) for punct in string.punctuation)\n",
        "def LemNormalize(text):\n",
        "    return LemTokens(nltk.word_tokenize(text.lower().translate(remove_punct_dict)))"
      ]
    },
    {
      "cell_type": "markdown",
      "id": "0a7757c3",
      "metadata": {
        "id": "0a7757c3"
      },
      "source": [
        "#### Keyword Matching"
      ]
    },
    {
      "cell_type": "code",
      "execution_count": null,
      "id": "a584fdd0",
      "metadata": {
        "id": "a584fdd0"
      },
      "outputs": [],
      "source": [
        "GREETING_INPUTS = (\"hello\", \"hi\", \"greetings\", \"sup\", \"what's up\",\"hey\",)\n",
        "GREETING_RESPONSES = [\"hi\", \"hey\", \"*nods*\", \"hi there\", \"hello\", \"I am glad! You are talking to me\"]\n",
        "def greeting(sentence):\n",
        "\n",
        "    for word in sentence.split():\n",
        "        if word.lower() in GREETING_INPUTS:\n",
        "            return random.choice(GREETING_RESPONSES)"
      ]
    },
    {
      "cell_type": "code",
      "execution_count": null,
      "id": "26fb001c",
      "metadata": {
        "id": "26fb001c"
      },
      "outputs": [],
      "source": [
        "def response(user_response):\n",
        "    robo_response=''\n",
        "    sent_tokens.append(user_response)\n",
        "    TfidfVec = TfidfVectorizer(tokenizer=LemNormalize, stop_words='english')\n",
        "    tfidf = TfidfVec.fit_transform(sent_tokens)\n",
        "    vals = cosine_similarity(tfidf[-1], tfidf)\n",
        "    idx=vals.argsort()[0][-2]\n",
        "    flat = vals.flatten()\n",
        "    flat.sort()\n",
        "    req_tfidf = flat[-2]\n",
        "    if(req_tfidf==0):\n",
        "        robo_response=robo_response+\"I am sorry! I don't understand you\"\n",
        "        return robo_response\n",
        "    else:\n",
        "        robo_response = robo_response+sent_tokens[idx]\n",
        "        return robo_response"
      ]
    },
    {
      "cell_type": "code",
      "execution_count": null,
      "id": "c45d7eeb",
      "metadata": {
        "colab": {
          "base_uri": "https://localhost:8080/"
        },
        "id": "c45d7eeb",
        "outputId": "5e991fff-1559-4aca-91f2-3a5b8c416dd8",
        "collapsed": true
      },
      "outputs": [
        {
          "output_type": "stream",
          "name": "stdout",
          "text": [
            "Julie: My name is Julie. I will answer your queries about Chatbots. If you want to exit, type Bye!\n",
            "how are you\n",
            "Julie: I am sorry! I don't understand you\n",
            "hello\n",
            "Julie: hey\n",
            "bye\n",
            "Julie: Bye! take care..\n"
          ]
        }
      ],
      "source": [
        "flag=True\n",
        "print(\"Julie: My name is Julie. I will answer your queries about Chatbots. If you want to exit, type Bye!\")\n",
        "while(flag==True):\n",
        "    user_response = input()\n",
        "    user_response=user_response.lower()\n",
        "    if(user_response!='bye'):\n",
        "        if(user_response=='thanks' or user_response=='thank you' ):\n",
        "            flag=False\n",
        "            print(\"Julie: You are welcome..\")\n",
        "        else:\n",
        "            if(greeting(user_response)!=None):\n",
        "                print(\"Julie: \"+greeting(user_response))\n",
        "            else:\n",
        "                print(\"Julie: \",end=\"\")\n",
        "                print(response(user_response))\n",
        "                sent_tokens.remove(user_response)\n",
        "    else:\n",
        "        flag=False\n",
        "        print(\"Julie: Bye! take care..\")"
      ]
    },
    {
      "cell_type": "code",
      "execution_count": null,
      "id": "c5b61bbc",
      "metadata": {
        "id": "c5b61bbc"
      },
      "outputs": [],
      "source": []
    }
  ],
  "metadata": {
    "kernelspec": {
      "display_name": "Python 3 (ipykernel)",
      "language": "python",
      "name": "python3"
    },
    "language_info": {
      "codemirror_mode": {
        "name": "ipython",
        "version": 3
      },
      "file_extension": ".py",
      "mimetype": "text/x-python",
      "name": "python",
      "nbconvert_exporter": "python",
      "pygments_lexer": "ipython3",
      "version": "3.10.5"
    },
    "colab": {
      "provenance": []
    }
  },
  "nbformat": 4,
  "nbformat_minor": 5
}